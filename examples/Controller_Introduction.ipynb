{
 "cells": [
  {
   "cell_type": "markdown",
   "metadata": {},
   "source": [
    "# Process control with the lucullus REST API\n",
    "\n",
    "## Introduction\n",
    "\n",
    "The basic control scheme is often described as a cycle consisting of three repeating steps.\n",
    "\n",
    "1. Measure\n",
    "2. Decide\n",
    "3. Act\n",
    "\n",
    "So if we want to use this is as a guideline for our own implementation of controlling processes with the REST API, we can also define three simple steps:\n",
    "\n",
    "1. Collect port data\n",
    "2. Calculate some stuff\n",
    "3. Update ports\n",
    "\n",
    "For this we have created a class \"Controller\", which does just that and now this notebook will guide you step by step through the process of creating your own simple controller."
   ]
  },
  {
   "cell_type": "code",
   "execution_count": 4,
   "metadata": {},
   "outputs": [],
   "source": [
    "from lucullus_rest.core import Controller\n",
    "\n",
    "auth = (\"user\", \"password\")\n",
    "process = \"Process_555\"\n",
    "port_names = [\"PV_Temp\", \"PV_rpm\"]"
   ]
  },
  {
   "cell_type": "markdown",
   "metadata": {},
   "source": [
    "## Use Case I - Only Monitoring Data\n",
    "\n",
    "So lets say we only want to collect the data with each iteration, a little bit of a constructed case, but still. We create a new instance of the Controller class by initializing it with the necessary information of process name, list of ports which are needed, and authentication. Afterwards we collect the data in our update, and can now print the data that we gathered. As you can see, during each update step we collect the whole timeseries and not only the newest data. This is meant in the case there would be a delay of historical data, for instance in the case of offline or atline analytics."
   ]
  },
  {
   "cell_type": "code",
   "execution_count": 5,
   "metadata": {},
   "outputs": [
    {
     "name": "stdout",
     "output_type": "stream",
     "text": [
      "   Time [h]  PV_rpm    PV_Temp\n",
      "0  0.001465       0  25.161243\n"
     ]
    }
   ],
   "source": [
    "c = Controller(process, port_names, auth, interp_interval=60)\n",
    "c.update()\n",
    "\n",
    "print(c.collected_data)"
   ]
  },
  {
   "cell_type": "markdown",
   "metadata": {},
   "source": [
    "## Use Case II - Monitoring and Calculation"
   ]
  },
  {
   "cell_type": "code",
   "execution_count": 6,
   "metadata": {},
   "outputs": [
    {
     "name": "stdout",
     "output_type": "stream",
     "text": [
      "None\n"
     ]
    }
   ],
   "source": [
    "def calc_temp_integral(collected_data, calculated_data):\n",
    "    collected_data[\"PV_Temp\"].rolling(2).sum()*collected_data[\"Time [h]\"].diff()\n",
    "    return calculated_data\n",
    "\n",
    "c = Controller(process, port_names, auth, \n",
    "    interp_interval=60,\n",
    "    calc_fun=calc_temp_integral)\n",
    "\n",
    "c.update()\n",
    "\n",
    "print(c.calculated_data)"
   ]
  },
  {
   "cell_type": "markdown",
   "metadata": {},
   "source": [
    "## Use Case III - Monitoring, Calculation, Control\n",
    "\n",
    "We will now create a simple toy controller, by adding an output function. Our output function gets both the collected and the calculated data as inputs and passes a dictionary with the ports it should update as output. As this is only supposed to show the capabilites of the controller class we will make a simple controller, that switches the temperature setpoint every 5 minutes 1 degree up or down."
   ]
  },
  {
   "cell_type": "code",
   "execution_count": 7,
   "metadata": {},
   "outputs": [
    {
     "name": "stdout",
     "output_type": "stream",
     "text": [
      "2022-05-13 06:41:23.808802 New temperature setpoint: 28.0\n",
      "None\n"
     ]
    }
   ],
   "source": [
    "import numpy as np\n",
    "from datetime import datetime\n",
    "\n",
    "def set_temperature(collected_data, calculated_data):\n",
    "    # Get current process time\n",
    "    process_time = collected_data[\"Time [h]\"].values[-1]\n",
    "    # Define the time in hours when the temperature should be changed\n",
    "    cycle_time = 1/60*5\n",
    "    cycle = np.floor(process_time/cycle_time)\n",
    "    # Define the new temperature as a function of cycle time\n",
    "    new_temp = 27.5 + 0.5*(-1)**cycle\n",
    "    updated_ports = {\"SP_Temp\": new_temp}\n",
    "    return updated_ports\n",
    "\n",
    "c = Controller(process, port_names, auth, \n",
    "    interp_interval=60,\n",
    "    update_interval=30,\n",
    "    calc_fun=calc_temp_integral,\n",
    "    output_fun=set_temperature)\n",
    "\n",
    "c.update()\n",
    "\n",
    "print(c.calculated_data)"
   ]
  },
  {
   "cell_type": "markdown",
   "metadata": {},
   "source": [
    "You can now observe in the Lucullus execution monitor that the temperature should change in your process. Before we have only updated a single time, but if we want to update all 30 seconds, as defined by the parameter update_interval, we start an indefinite update cycle."
   ]
  },
  {
   "cell_type": "code",
   "execution_count": 8,
   "metadata": {},
   "outputs": [
    {
     "name": "stdout",
     "output_type": "stream",
     "text": [
      "2022-05-13 06:41:36.229449 New temperature setpoint: 28.0\n",
      "2022-05-13 06:42:06.396407 New temperature setpoint: 28.0\n",
      "2022-05-13 06:42:36.355024 New temperature setpoint: 28.0\n",
      "2022-05-13 06:43:06.305388 New temperature setpoint: 28.0\n",
      "2022-05-13 06:43:36.368495 New temperature setpoint: 28.0\n",
      "2022-05-13 06:44:06.721551 New temperature setpoint: 28.0\n",
      "2022-05-13 06:44:36.441813 New temperature setpoint: 28.0\n",
      "2022-05-13 06:45:06.248357 New temperature setpoint: 28.0\n",
      "2022-05-13 06:45:36.569970 New temperature setpoint: 28.0\n",
      "2022-05-13 06:46:06.431386 New temperature setpoint: 27.0\n",
      "2022-05-13 06:46:36.562197 New temperature setpoint: 27.0\n",
      "2022-05-13 06:47:06.388438 New temperature setpoint: 27.0\n",
      "2022-05-13 06:47:36.554380 New temperature setpoint: 27.0\n",
      "2022-05-13 06:48:06.551508 New temperature setpoint: 27.0\n",
      "2022-05-13 06:48:36.579257 New temperature setpoint: 27.0\n",
      "2022-05-13 06:49:06.578799 New temperature setpoint: 27.0\n",
      "2022-05-13 06:49:36.525927 New temperature setpoint: 27.0\n"
     ]
    }
   ],
   "source": [
    "c.start_update_cycle()"
   ]
  }
 ],
 "metadata": {
  "interpreter": {
   "hash": "3a5771fbb30f90b476369e73d404b5f512ca290f716812004d147ef9d0b71a39"
  },
  "kernelspec": {
   "display_name": "Python 3 (ipykernel)",
   "language": "python",
   "name": "python3"
  },
  "language_info": {
   "codemirror_mode": {
    "name": "ipython",
    "version": 3
   },
   "file_extension": ".py",
   "mimetype": "text/x-python",
   "name": "python",
   "nbconvert_exporter": "python",
   "pygments_lexer": "ipython3",
   "version": "3.11.1"
  }
 },
 "nbformat": 4,
 "nbformat_minor": 2
}
